{
  "cells": [
    {
      "cell_type": "markdown",
      "metadata": {
        "id": "view-in-github",
        "colab_type": "text"
      },
      "source": [
        "<a href=\"https://colab.research.google.com/github/singhritu7116/ongc/blob/main/EUR_PREDICTION.ipynb\" target=\"_parent\"><img src=\"https://colab.research.google.com/assets/colab-badge.svg\" alt=\"Open In Colab\"/></a>"
      ]
    },
    {
      "cell_type": "markdown",
      "metadata": {
        "id": "Lvot_8c9SNOI"
      },
      "source": [
        "# **IMPORTING LIBRARIES**"
      ]
    },
    {
      "cell_type": "code",
      "execution_count": null,
      "metadata": {
        "id": "Nu8BOdHC3P9g"
      },
      "outputs": [],
      "source": [
        "import pandas as pd\n",
        "import numpy as np\n",
        "from sklearn.feature_selection import SelectKBest\n",
        "from sklearn.feature_selection import chi2\n",
        "from sklearn.preprocessing import LabelEncoder,OrdinalEncoder,StandardScaler,power_transform\n",
        "from scipy.stats import spearmanr\n",
        "from sklearn.datasets import load_boston\n",
        "from sklearn.ensemble import RandomForestRegressor\n",
        "from sklearn.model_selection import train_test_split\n",
        "from sklearn.feature_selection import RFECV\n",
        "import matplotlib.pyplot as plt"
      ]
    },
    {
      "cell_type": "code",
      "source": [
        "from google.colab import drive\n",
        "drive.mount('/content/drive')"
      ],
      "metadata": {
        "id": "1Jz5VDrqsXqV"
      },
      "execution_count": null,
      "outputs": []
    },
    {
      "cell_type": "markdown",
      "metadata": {
        "id": "_m4y8TbQSVaA"
      },
      "source": [
        "# **LOADING DATASET**"
      ]
    },
    {
      "cell_type": "code",
      "execution_count": null,
      "metadata": {
        "id": "lMmpb-jt4Jz8"
      },
      "outputs": [],
      "source": [
        "data= pd.read_csv(\"/content/drive/MyDrive/Chapter6_Shale Gas Wells.csv\")"
      ]
    },
    {
      "cell_type": "markdown",
      "metadata": {
        "id": "8Qe3sSC9SgTX"
      },
      "source": [
        "Data Analysis"
      ]
    },
    {
      "cell_type": "code",
      "execution_count": null,
      "metadata": {
        "id": "ZGgGyWvy6E0v"
      },
      "outputs": [],
      "source": [
        "data.shape"
      ]
    },
    {
      "cell_type": "code",
      "execution_count": null,
      "metadata": {
        "id": "zL_kFMy44qpK"
      },
      "outputs": [],
      "source": [
        "X = data.iloc[:,0:13]\n",
        "EUR = data.iloc[:,-1]\n",
        "EUR=EUR.astype('int')"
      ]
    },
    {
      "cell_type": "code",
      "execution_count": null,
      "metadata": {
        "id": "jBO-Lj7Y4xy9"
      },
      "outputs": [],
      "source": [
        "data.head()"
      ]
    },
    {
      "cell_type": "markdown",
      "metadata": {
        "id": "0GaU4l_WSzXG"
      },
      "source": [
        "# **FEATURE SELECTION**"
      ]
    },
    {
      "cell_type": "markdown",
      "source": [
        "### 1. **USING SELECT KBEST**"
      ],
      "metadata": {
        "id": "IbLRGgG4F7fg"
      }
    },
    {
      "cell_type": "code",
      "execution_count": null,
      "metadata": {
        "id": "5VDhVWA84zTJ"
      },
      "outputs": [],
      "source": [
        "BestFeatures = SelectKBest(score_func=chi2, k=13)\n",
        "fit = BestFeatures.fit(X,EUR)\n"
      ]
    },
    {
      "cell_type": "code",
      "execution_count": null,
      "metadata": {
        "id": "10IQiJAi5c4s"
      },
      "outputs": [],
      "source": [
        "df_scores = pd.DataFrame(fit.scores_)\n",
        "df_columns = pd.DataFrame(X.columns)"
      ]
    },
    {
      "cell_type": "code",
      "execution_count": null,
      "metadata": {
        "id": "eo7Ue0xS5jXc"
      },
      "outputs": [],
      "source": [
        "f_Scores = pd.concat([df_columns,df_scores],axis=1)               # feature scores\n",
        "f_Scores.columns = ['Specs','Score']"
      ]
    },
    {
      "cell_type": "code",
      "execution_count": null,
      "metadata": {
        "id": "_LNtfrlu5k_7"
      },
      "outputs": [],
      "source": [
        "f_Scores"
      ]
    },
    {
      "cell_type": "code",
      "execution_count": null,
      "metadata": {
        "id": "O6sFgXD96Oas"
      },
      "outputs": [],
      "source": [
        "print(f_Scores.nlargest(13,'Score'))"
      ]
    },
    {
      "cell_type": "markdown",
      "source": [
        "### **2. USING CORRELATION HEATMAP**"
      ],
      "metadata": {
        "id": "ab-HJFNxGHo4"
      }
    },
    {
      "cell_type": "code",
      "execution_count": null,
      "metadata": {
        "id": "op541aOR6sgS"
      },
      "outputs": [],
      "source": [
        "import seaborn as sns\n",
        "\n",
        "#get correlations of each features in dataset\n",
        "corrmat = data.corr()\n",
        "top_corr_features = corrmat.index\n",
        "\n",
        "plt.figure(figsize=(13,13))\n",
        "\n",
        "#plot heat map\n",
        "g=sns.heatmap(data[top_corr_features].corr(),annot=True,cmap=\"RdYlGn\")"
      ]
    },
    {
      "cell_type": "markdown",
      "source": [
        "### **3. USING SPEARMAN RANKING CORRELATION**"
      ],
      "metadata": {
        "id": "2XvV3ivvG6VI"
      }
    },
    {
      "cell_type": "markdown",
      "source": [
        "*   1 : perfect correlation,\n",
        "*   0 : no correlation\n",
        "*   -1: negative correlation\n",
        "\n",
        "\n",
        "\n",
        "\n",
        "\n",
        "\n"
      ],
      "metadata": {
        "id": "Fvuj6ICKI1Av"
      }
    },
    {
      "cell_type": "markdown",
      "source": [
        "3.1 Correlation Ranking for Stage Spacing"
      ],
      "metadata": {
        "id": "Q-SvNOVLIQz1"
      }
    },
    {
      "cell_type": "code",
      "source": [
        "newdf1=data[['Stage Spacing','EUR']]\n",
        "newdf1.corr(method='spearman')"
      ],
      "metadata": {
        "id": "QtLscEU4HhKy"
      },
      "execution_count": null,
      "outputs": []
    },
    {
      "cell_type": "code",
      "source": [
        "spearmanr(newdf1)"
      ],
      "metadata": {
        "id": "AOA7ncKbHiDB"
      },
      "execution_count": null,
      "outputs": []
    },
    {
      "cell_type": "markdown",
      "source": [
        "3.2 Correlation Ranking for all parameters"
      ],
      "metadata": {
        "id": "6N6QT7GmIS7o"
      }
    },
    {
      "cell_type": "code",
      "source": [
        "Col1=['Stage Spacing', 'bbl/ft', 'Well Spacing', 'Dip', 'Thickness','Lateral Length', 'Injection Rate', 'Porosity', 'ISIP','Water Saturation', 'Percentage of LG', 'Pressure Gradient',\n",
        "       'Proppant Loading']"
      ],
      "metadata": {
        "id": "1cELBKEpHodI"
      },
      "execution_count": null,
      "outputs": []
    },
    {
      "cell_type": "code",
      "source": [
        "for x in Col1:\n",
        "  df=data[[x,'EUR']]\n",
        "  print(\"--------correlation between\",x,\"and EUR---------\")\n",
        "  print('\\n')\n",
        "  print(df.corr(method='spearman'))\n",
        "  print(spearmanr(df))\n",
        "  print('----------------------------------------------------')\n",
        "  print('\\n')"
      ],
      "metadata": {
        "id": "Ly1_BRoQHu7V"
      },
      "execution_count": null,
      "outputs": []
    },
    {
      "cell_type": "markdown",
      "source": [
        "# **EVALUATING PERFORMANCE  OF DIFFERENT MODELS OVER GIVEN DATASET **"
      ],
      "metadata": {
        "id": "W9soRzuxJZI8"
      }
    },
    {
      "cell_type": "markdown",
      "metadata": {
        "id": "zl2BAE_NVnMg"
      },
      "source": [
        "## **1. USING UN-NORMALIZED DATA**"
      ]
    },
    {
      "cell_type": "code",
      "execution_count": null,
      "metadata": {
        "id": "KiupaMX0wEgM"
      },
      "outputs": [],
      "source": [
        "data.columns\n",
        "X=data.drop(['EUR'],axis=1)\n",
        "eur=data['EUR']"
      ]
    },
    {
      "cell_type": "markdown",
      "source": [
        "### SPLITTING DATA"
      ],
      "metadata": {
        "id": "5ESru234KzNd"
      }
    },
    {
      "cell_type": "code",
      "execution_count": null,
      "metadata": {
        "id": "EgKshJr47Z-f"
      },
      "outputs": [],
      "source": [
        "from sklearn.model_selection import train_test_split\n"
      ]
    },
    {
      "cell_type": "code",
      "source": [
        "X_train, x_test, y_train, y_test = train_test_split(X,eur,test_size=0.2,train_size=0.8)\n",
        "x_train, x_cv, y_train, y_cv = train_test_split(X_train,y_train,test_size = 0.25,train_size =0.75)"
      ],
      "metadata": {
        "id": "mPM-JpjESOHN"
      },
      "execution_count": null,
      "outputs": []
    },
    {
      "cell_type": "code",
      "source": [
        "x_test.shape"
      ],
      "metadata": {
        "id": "RSj6ppI7qupM"
      },
      "execution_count": null,
      "outputs": []
    },
    {
      "cell_type": "code",
      "source": [
        "x_train.shape"
      ],
      "metadata": {
        "id": "KKT3HuvrUmui"
      },
      "execution_count": null,
      "outputs": []
    },
    {
      "cell_type": "code",
      "source": [
        "x_cv.shape"
      ],
      "metadata": {
        "id": "Z0Hd1mVSUsqX"
      },
      "execution_count": null,
      "outputs": []
    },
    {
      "cell_type": "markdown",
      "source": [
        "## **MODEL 1 : RANDOM FOREST REGRESSOR**"
      ],
      "metadata": {
        "id": "t5BertP4NHcO"
      }
    },
    {
      "cell_type": "code",
      "source": [],
      "metadata": {
        "id": "-4gMaiFyTtZs"
      },
      "execution_count": null,
      "outputs": []
    },
    {
      "cell_type": "code",
      "execution_count": null,
      "metadata": {
        "id": "Jv10h34EwX1r"
      },
      "outputs": [],
      "source": [
        "from sklearn.ensemble import RandomForestRegressor"
      ]
    },
    {
      "cell_type": "code",
      "execution_count": null,
      "metadata": {
        "id": "nHUFnP4UwaCm"
      },
      "outputs": [],
      "source": [
        "regressor2 = RandomForestRegressor(n_estimators = 1000, random_state = 42)"
      ]
    },
    {
      "cell_type": "code",
      "execution_count": null,
      "metadata": {
        "id": "nLq8SiYxwaZb"
      },
      "outputs": [],
      "source": [
        "regressor2.fit(x_train, y_train)"
      ]
    },
    {
      "cell_type": "code",
      "execution_count": null,
      "metadata": {
        "id": "A_4Vf_H9wVfX"
      },
      "outputs": [],
      "source": [
        "f_i = list(zip(X,regressor2.feature_importances_))\n",
        "f_i.sort(key = lambda x : x[1])\n",
        "plt.barh([x[0] for x in f_i],[x[1] for x in f_i])\n",
        "\n",
        "plt.show()"
      ]
    },
    {
      "cell_type": "code",
      "execution_count": null,
      "metadata": {
        "id": "QJUaqpIvwceP"
      },
      "outputs": [],
      "source": [
        "y_pred2 = regressor2.predict(x_test)"
      ]
    },
    {
      "cell_type": "code",
      "execution_count": null,
      "metadata": {
        "id": "BgPWZmGFV_aI"
      },
      "outputs": [],
      "source": [
        "y_test"
      ]
    },
    {
      "cell_type": "code",
      "execution_count": null,
      "metadata": {
        "id": "-bJwwaM4WDF1"
      },
      "outputs": [],
      "source": [
        "x_test"
      ]
    },
    {
      "cell_type": "code",
      "execution_count": null,
      "metadata": {
        "id": "6a1bogd7wgdc"
      },
      "outputs": [],
      "source": [
        "df=pd.DataFrame({'Actual':y_test, 'Predicted':y_pred2})\n",
        "df"
      ]
    },
    {
      "cell_type": "markdown",
      "source": [
        "### **Testing MODEL-1 Over Random Data**"
      ],
      "metadata": {
        "id": "m86dAyzwLRa8"
      }
    },
    {
      "cell_type": "code",
      "source": [
        "x_cv.head()"
      ],
      "metadata": {
        "id": "-6crdDOsURoP"
      },
      "execution_count": null,
      "outputs": []
    },
    {
      "cell_type": "code",
      "source": [
        "y_cv.head()"
      ],
      "metadata": {
        "id": "Zkr9qKc5UWIT"
      },
      "execution_count": null,
      "outputs": []
    },
    {
      "cell_type": "code",
      "execution_count": null,
      "metadata": {
        "id": "Gk8y3zAaTyBW"
      },
      "outputs": [],
      "source": [
        "data_pred={'Stage Spacing': 140,\n",
        "      'bbi/ft': 36,\n",
        "      'Well Spacing': 950,\n",
        "      'Dip':0,\n",
        "      'Thickness': 166,\n",
        "      'Lateral Length': 7783,\n",
        "      'Injection Rate': 59,\n",
        "      'Porosity': 7.7,\n",
        "      'ISIP': 7643,\n",
        "      'Water Saturation': 17.4,\n",
        "      'Percentage of LG': 37.1,\n",
        "      'Pressure Gradient': 0.94,\n",
        "      'Proppant Loading': 2531,\n",
        "      }\n",
        "\n"
      ]
    },
    {
      "cell_type": "code",
      "execution_count": null,
      "metadata": {
        "id": "9Qbn-SxEVEv5"
      },
      "outputs": [],
      "source": [
        "import pandas as pd"
      ]
    },
    {
      "cell_type": "code",
      "execution_count": null,
      "metadata": {
        "id": "mLpOpY4UVBQT"
      },
      "outputs": [],
      "source": [
        "df=pd.DataFrame(data_pred,index=[0])\n",
        "df\n"
      ]
    },
    {
      "cell_type": "code",
      "execution_count": null,
      "metadata": {
        "id": "tVvQ92-lVlAm"
      },
      "outputs": [],
      "source": [
        "new_pred=regressor2.predict(df)\n",
        "print(new_pred[0])"
      ]
    },
    {
      "cell_type": "markdown",
      "source": [
        "### **Plotting Predicted Data Against Actual Data**"
      ],
      "metadata": {
        "id": "nkpVaMxeMRXr"
      }
    },
    {
      "cell_type": "code",
      "execution_count": null,
      "metadata": {
        "id": "LKHXd7Suwjdc"
      },
      "outputs": [],
      "source": [
        "import seaborn as sns\n",
        "plt.figure(figsize=(5, 7))\n",
        "\n",
        "\n",
        "ax = sns.distplot(y_test, hist=False, color=\"r\", label=\"Actual Value\")\n",
        "sns.distplot(y_pred2, hist=False, color=\"b\", label=\"Fitted Values\" , ax=ax)\n",
        "\n",
        "\n",
        "plt.title('Actual vs Fitted Values for EUR')\n",
        "\n",
        "plt.legend()\n",
        "plt.show()\n",
        "plt.close()"
      ]
    },
    {
      "cell_type": "markdown",
      "source": [
        "### **Calculating MAE and Accuracy and R2 Score of the Model**"
      ],
      "metadata": {
        "id": "Pi0fSvjYMdzU"
      }
    },
    {
      "cell_type": "code",
      "execution_count": null,
      "metadata": {
        "id": "0n2B3irawrYu"
      },
      "outputs": [],
      "source": [
        "errors = abs(y_pred2 - y_test)\n",
        "# Print out the mean absolute error (mae)\n",
        "print('Mean Absolute Error:', round(np.mean(errors), 2), 'degrees.')\n",
        "\n",
        "# Calculate mean absolute percentage error (MAPE)\n",
        "mape = 100 * (errors / y_test)\n",
        "# Calculate and display accuracy\n",
        "accuracy = 100 - np.mean(mape)\n",
        "print('Accuracy:', round(accuracy, 2), '%.')"
      ]
    },
    {
      "cell_type": "code",
      "source": [
        "from sklearn.metrics import r2_score\n",
        "r2_score(y_test, y_pred2)"
      ],
      "metadata": {
        "id": "2DnDuYGACWP_"
      },
      "execution_count": null,
      "outputs": []
    },
    {
      "cell_type": "markdown",
      "source": [
        "## **MODEL 2 : Support Vector Machine(SVM) Model**"
      ],
      "metadata": {
        "id": "jVNO3bC6M0fA"
      }
    },
    {
      "cell_type": "code",
      "execution_count": null,
      "metadata": {
        "id": "yS07fK9XwvJY"
      },
      "outputs": [],
      "source": [
        "from sklearn.svm import SVC\n",
        "from sklearn import svm"
      ]
    },
    {
      "cell_type": "code",
      "execution_count": null,
      "metadata": {
        "id": "YdqhcNOOhQdw"
      },
      "outputs": [],
      "source": [
        "svc_model = svm.SVR(kernel='poly',degree=4)\n",
        "svc_model.fit(x_train, y_train)\n",
        "\n",
        "prediction = svc_model .predict(x_test)"
      ]
    },
    {
      "cell_type": "code",
      "execution_count": null,
      "metadata": {
        "id": "YE4CBIwqhje2"
      },
      "outputs": [],
      "source": [
        "print(svc_model.score(x_train, y_train))\n",
        "print(svc_model.score(x_test, y_test))"
      ]
    },
    {
      "cell_type": "markdown",
      "source": [
        "### **Plotting Predicted Data Against Actual Data**"
      ],
      "metadata": {
        "id": "i8l8UYAYNWGs"
      }
    },
    {
      "cell_type": "code",
      "execution_count": null,
      "metadata": {
        "id": "KX-o1dmempZD"
      },
      "outputs": [],
      "source": [
        "plt.figure(figsize=(5, 7))\n",
        "\n",
        "\n",
        "ax = sns.distplot(y_test, hist=False, color=\"r\", label=\"Actual Value\")\n",
        "sns.distplot(prediction, hist=False, color=\"b\", label=\"Fitted Values\" , ax=ax)\n",
        "\n",
        "\n",
        "plt.title('Actual vs Fitted Values for EUR')\n",
        "\n",
        "plt.legend()\n",
        "plt.show()\n",
        "plt.close()"
      ]
    },
    {
      "cell_type": "markdown",
      "source": [
        "### **Calculating MAE and Accuracy and R2 Score of the Model**"
      ],
      "metadata": {
        "id": "g4JcPx8nNev7"
      }
    },
    {
      "cell_type": "code",
      "execution_count": null,
      "metadata": {
        "id": "GCSaLeoSpoBu"
      },
      "outputs": [],
      "source": [
        "errors = abs(prediction - y_test)\n",
        "# Print out the mean absolute error (mae)\n",
        "print('Mean Absolute Error:', round(np.mean(errors), 2), 'degrees.')\n",
        "\n",
        "# Calculate mean absolute percentage error (MAPE)\n",
        "mape = 100 * (errors / y_test)\n",
        "# Calculate and display accuracy\n",
        "accuracy = 100 - np.mean(mape)\n",
        "print('Accuracy:', accuracy, '%.')"
      ]
    },
    {
      "cell_type": "code",
      "source": [
        "from sklearn.metrics import r2_score\n",
        "r2_score(y_test, prediction)"
      ],
      "metadata": {
        "id": "f8TnHB9DCbwF"
      },
      "execution_count": null,
      "outputs": []
    },
    {
      "cell_type": "code",
      "source": [
        "x_cv"
      ],
      "metadata": {
        "id": "nBxp1RKDxPpO"
      },
      "execution_count": null,
      "outputs": []
    },
    {
      "cell_type": "code",
      "source": [
        "y_cv"
      ],
      "metadata": {
        "id": "IR9_u0ljxTY6"
      },
      "execution_count": null,
      "outputs": []
    },
    {
      "cell_type": "code",
      "source": [
        "data_pred={'Stage Spacing': 140,\n",
        "      'bbi/ft': 36,\n",
        "      'Well Spacing': 950,\n",
        "      'Dip':0,\n",
        "      'Thickness': 166,\n",
        "      'Lateral Length': 7783,\n",
        "      'Injection Rate': 59,\n",
        "      'Porosity': 7.7,\n",
        "      'ISIP': 7643,\n",
        "      'Water Saturation': 17.4,\n",
        "      'Percentage of LG': 37.1,\n",
        "      'Pressure Gradient': 0.94,\n",
        "      'Proppant Loading': 2531,\n",
        "      }"
      ],
      "metadata": {
        "id": "F3N4BPl3ne5z"
      },
      "execution_count": null,
      "outputs": []
    },
    {
      "cell_type": "code",
      "source": [
        "df=pd.DataFrame(data_pred,index=[0])\n",
        "df"
      ],
      "metadata": {
        "id": "LyGIy6nfnunE"
      },
      "execution_count": null,
      "outputs": []
    },
    {
      "cell_type": "code",
      "source": [
        "new_pred=svc_model.predict(df)\n",
        "print(new_pred[0])"
      ],
      "metadata": {
        "id": "e-khbSPTn8gG"
      },
      "execution_count": null,
      "outputs": []
    },
    {
      "cell_type": "markdown",
      "metadata": {
        "id": "YUS-66ZhWlFm"
      },
      "source": [
        "# **NORMALIZATION OF DATASET**"
      ]
    },
    {
      "cell_type": "markdown",
      "source": [
        "### USING LAMBDA FUNCTION"
      ],
      "metadata": {
        "id": "BU_AqaFgN7BK"
      }
    },
    {
      "cell_type": "code",
      "execution_count": null,
      "metadata": {
        "id": "6eXducvPWlFm"
      },
      "outputs": [],
      "source": [
        "col_norm=['Stage Spacing', 'bbl/ft', 'Well Spacing', 'Dip', 'Thickness','Lateral Length', 'Injection Rate', 'Porosity', 'ISIP','Water Saturation', 'Percentage of LG', 'Pressure Gradient',\n",
        "       'Proppant Loading']\n",
        "data_norm=data[col_norm]\n",
        "data_norm.head()"
      ]
    },
    {
      "cell_type": "code",
      "execution_count": null,
      "metadata": {
        "id": "VuKEHwPqWlFn"
      },
      "outputs": [],
      "source": [
        "data_norm1=data[col_norm].apply(lambda x:((x-x.min())/(x.max()-x.min())))"
      ]
    },
    {
      "cell_type": "code",
      "execution_count": null,
      "metadata": {
        "id": "S97tZMraWlFn"
      },
      "outputs": [],
      "source": [
        "data_norm1.head()"
      ]
    },
    {
      "cell_type": "markdown",
      "metadata": {
        "id": "maburAl1W_lp"
      },
      "source": [
        "## **2. USING NORMALIZED DATA**"
      ]
    },
    {
      "cell_type": "code",
      "execution_count": null,
      "metadata": {
        "id": "1eRlf9QwXYFj"
      },
      "outputs": [],
      "source": [
        "data_norm1.columns\n",
        "X=data_norm1.drop(['Pressure Gradient'],axis=1)\n",
        "eur=data['EUR']\n",
        "\n",
        "X_train, x_test, y_train, y_test = train_test_split(X,eur,test_size=0.2,train_size=0.8)\n",
        "x_train, x_cv, y_train, y_cv = train_test_split(X_train,y_train,test_size = 0.25,train_size =0.75)\n"
      ]
    },
    {
      "cell_type": "markdown",
      "source": [
        "### **Using Random Forest Regressor**\n",
        "\n",
        "\n"
      ],
      "metadata": {
        "id": "FjfHnFBfOc4y"
      }
    },
    {
      "cell_type": "code",
      "source": [
        "regressor2 = RandomForestRegressor(n_estimators = 1000, random_state = 42)\n",
        "regressor2.fit(x_train, y_train)\n",
        "y_pred2 = regressor2.predict(x_test)\n",
        "df=pd.DataFrame({'Actual':y_test, 'Predicted':y_pred2})\n",
        "df"
      ],
      "metadata": {
        "id": "xlUwgGbuObzj"
      },
      "execution_count": null,
      "outputs": []
    },
    {
      "cell_type": "markdown",
      "source": [
        "### **Plotting Predicted Data Against Actual Data**"
      ],
      "metadata": {
        "id": "yfJD6NMWPvfD"
      }
    },
    {
      "cell_type": "code",
      "execution_count": null,
      "metadata": {
        "id": "84HLCPG9Y74P"
      },
      "outputs": [],
      "source": [
        "import seaborn as sns\n",
        "plt.figure(figsize=(5, 7))\n",
        "\n",
        "\n",
        "ax = sns.distplot(y_test, hist=False, color=\"r\", label=\"Actual Value\")\n",
        "sns.distplot(y_pred2, hist=False, color=\"b\", label=\"Fitted Values\" , ax=ax)\n",
        "\n",
        "plt.title('Actual vs Fitted Values for EUR')\n",
        "\n",
        "plt.legend()\n",
        "plt.show()\n",
        "plt.close()"
      ]
    },
    {
      "cell_type": "markdown",
      "source": [
        "### **Calculating MAE and Accuracy and R2 Score of the Model**"
      ],
      "metadata": {
        "id": "iOibp5keP0TH"
      }
    },
    {
      "cell_type": "code",
      "execution_count": null,
      "metadata": {
        "id": "7rZ3gOFyZIJO"
      },
      "outputs": [],
      "source": [
        "errors = abs(y_pred2 - y_test)\n",
        "# Print out the mean absolute error (mae)\n",
        "print('Mean Absolute Error:', round(np.mean(errors), 2), 'degrees.')\n",
        "\n",
        "# Calculate mean absolute percentage error (MAPE)\n",
        "mape = 100 * (errors / y_test)\n",
        "# Calculate and display accuracy\n",
        "accuracy = 100 - np.mean(mape)\n",
        "print('Accuracy:', round(accuracy, 2), '%.')"
      ]
    },
    {
      "cell_type": "code",
      "source": [
        "from sklearn.metrics import r2_score\n",
        "\n",
        "r2_score(y_test, y_pred2)"
      ],
      "metadata": {
        "id": "M5ErxdFnCgFG"
      },
      "execution_count": null,
      "outputs": []
    },
    {
      "cell_type": "markdown",
      "source": [
        "### **Using Support Vector Machine**"
      ],
      "metadata": {
        "id": "hVA4zzvQPQSD"
      }
    },
    {
      "cell_type": "code",
      "source": [
        "svc_model = svm.SVR(kernel='poly',degree=4)\n",
        "svc_model.fit(x_train, y_train)\n",
        "\n",
        "prediction = svc_model .predict(x_test)\n",
        "print(svc_model.score(x_train, y_train))\n",
        "print(svc_model.score(x_test, y_test))"
      ],
      "metadata": {
        "id": "ygpvx1QhPVyr"
      },
      "execution_count": null,
      "outputs": []
    },
    {
      "cell_type": "markdown",
      "source": [
        "### **Plotting Predicted Data Against Actual Data**"
      ],
      "metadata": {
        "id": "yrLQ7I5uQCqN"
      }
    },
    {
      "cell_type": "code",
      "source": [
        "plt.figure(figsize=(5, 7))\n",
        "\n",
        "\n",
        "ax = sns.distplot(y_test, hist=False, color=\"r\", label=\"Actual Value\")\n",
        "sns.distplot(prediction, hist=False, color=\"b\", label=\"Fitted Values\" , ax=ax)\n",
        "\n",
        "\n",
        "plt.title('Actual vs Fitted Values for EUR')\n",
        "\n",
        "plt.legend()\n",
        "plt.show()\n",
        "plt.close()"
      ],
      "metadata": {
        "id": "4Z38BcP_PZBt"
      },
      "execution_count": null,
      "outputs": []
    },
    {
      "cell_type": "markdown",
      "source": [
        "### **Calculating MAE and Accuracy and R2 Score of the Model**"
      ],
      "metadata": {
        "id": "CEGqU_SzQdXl"
      }
    },
    {
      "cell_type": "code",
      "source": [
        "errors = abs(prediction - y_test)\n",
        "# Print out the mean absolute error (mae)\n",
        "# print('Mean Absolute Error:', round(np.mean(errors), 2), 'degrees.')\n",
        "print('Mean Absolute Error:', np.mean(errors) ,'degrees.')\n",
        "\n",
        "# Calculate mean absolute percentage error (MAPE)\n",
        "mape = 100 * (errors / y_test)\n",
        "# Calculate and display accuracy\n",
        "accuracy = 100 - np.mean(mape)\n",
        "print('Accuracy:', (accuracy, 2), '%.')"
      ],
      "metadata": {
        "id": "8Pu-YJYmPd2g"
      },
      "execution_count": null,
      "outputs": []
    },
    {
      "cell_type": "code",
      "source": [
        "from sklearn.metrics import r2_score\n",
        "\n",
        "r2_score(y_test, prediction)"
      ],
      "metadata": {
        "id": "3WaW7KsvPhvb"
      },
      "execution_count": null,
      "outputs": []
    },
    {
      "cell_type": "code",
      "source": [
        "print(y_test)"
      ],
      "metadata": {
        "id": "44zhWXH3lcvQ"
      },
      "execution_count": null,
      "outputs": []
    },
    {
      "cell_type": "code",
      "source": [
        "data_pred3={'Stage Spacing': 140,\n",
        "      'bbi/ft': 30,\n",
        "      'Well Spacing': 950,\n",
        "      'Dip':0,\n",
        "      'Thickness': 178,\n",
        "      'Lateral Length': 7942,\n",
        "      'Injection Rate': 76,\n",
        "      'Porosity': 7,\n",
        "      'ISIP': 7783,\n",
        "      'Water Saturation': 16.9,\n",
        "      'Percentage of LG': 43.9,\n",
        "      #'Pressure Gradient': 0.95,\n",
        "      'Proppant Loading': 2803,\n",
        "      }"
      ],
      "metadata": {
        "id": "FCrWBtF2fsGZ"
      },
      "execution_count": null,
      "outputs": []
    },
    {
      "cell_type": "code",
      "source": [
        "df2=pd.DataFrame(data_pred3,index=[0])\n",
        "df2"
      ],
      "metadata": {
        "id": "ibEZ_H7SgNCy"
      },
      "execution_count": null,
      "outputs": []
    },
    {
      "cell_type": "markdown",
      "source": [
        "## **MODEL 3 : DECISION TREE REGRESSOR**"
      ],
      "metadata": {
        "id": "e86XI_tGO36k"
      }
    },
    {
      "cell_type": "code",
      "source": [
        "from sklearn.tree import DecisionTreeRegressor"
      ],
      "metadata": {
        "id": "7q1V2u0r8BKF"
      },
      "execution_count": null,
      "outputs": []
    },
    {
      "cell_type": "code",
      "source": [
        "regressor= DecisionTreeRegressor(criterion='squared_error',splitter='best', random_state=142)\n",
        "regressor.fit(x_train, y_train)"
      ],
      "metadata": {
        "id": "PK4TC4VV95SM"
      },
      "execution_count": null,
      "outputs": []
    },
    {
      "cell_type": "code",
      "source": [
        "y_pred3= regressor.predict(x_test)\n",
        "df3=pd.DataFrame({'Actual':y_test, 'Predicted':y_pred3})\n",
        "df3"
      ],
      "metadata": {
        "id": "OYWgjhzM9cPX"
      },
      "execution_count": null,
      "outputs": []
    },
    {
      "cell_type": "markdown",
      "source": [
        "### **Plotting Predicted Data Against Actual Data**"
      ],
      "metadata": {
        "id": "Hcg8SoSHQj5c"
      }
    },
    {
      "cell_type": "code",
      "source": [
        "import seaborn as sns\n",
        "plt.figure(figsize=(5, 7))\n",
        "\n",
        "\n",
        "ax = sns.distplot(y_test, hist=False, color=\"r\", label=\"Actual Value\")\n",
        "sns.distplot(y_pred3, hist=False, color=\"b\", label=\"Fitted Values\" , ax=ax)\n",
        "\n",
        "\n",
        "plt.title('Actual vs Fitted Values for EUR')\n",
        "\n",
        "plt.legend()\n",
        "plt.show()\n",
        "plt.close()"
      ],
      "metadata": {
        "id": "8wv37s1iBIXZ"
      },
      "execution_count": null,
      "outputs": []
    },
    {
      "cell_type": "code",
      "source": [
        "from sklearn.tree import plot_tree\n",
        "reg = DecisionTreeRegressor(max_depth=3) #max_depth is maximum number of levels in the tree\n",
        "reg.fit(x_train, y_train)\n",
        "\n",
        "plt.figure(figsize=(25,10))\n",
        "a = plot_tree(reg,\n",
        "              feature_names=['Stage Spacing', 'bbl/ft', 'Well Spacing', 'Dip', 'Thickness','Lateral Length', 'Injection Rate', 'Porosity', 'ISIP','Water Saturation', 'Percentage of LG',\n",
        "       'Proppant Loading'],\n",
        "              class_names=['EUR'],\n",
        "              filled=True,\n",
        "              rounded=True,\n",
        "              fontsize=14)"
      ],
      "metadata": {
        "id": "-ea86UxjTcOn"
      },
      "execution_count": null,
      "outputs": []
    },
    {
      "cell_type": "markdown",
      "source": [
        "### **Calculating MAE and Accuracy and R2 Score of the Model**"
      ],
      "metadata": {
        "id": "IqTgLLsVQqfm"
      }
    },
    {
      "cell_type": "code",
      "source": [
        "errors = abs(y_pred3 - y_test)\n",
        "# Print out the mean absolute error (mae)\n",
        "print('Mean Absolute Error:', round(np.mean(errors), 2), 'degrees.')\n",
        "\n",
        "# Calculate mean absolute percentage error (MAPE)\n",
        "mape = 100 * (errors / y_test)\n",
        "# Calculate and display accuracy\n",
        "accuracy = 100 - np.mean(mape)\n",
        "print('Accuracy:', round(accuracy, 2), '%.')"
      ],
      "metadata": {
        "id": "3XioKtloA1pA"
      },
      "execution_count": null,
      "outputs": []
    },
    {
      "cell_type": "code",
      "source": [
        "r2_score(y_test, y_pred3)"
      ],
      "metadata": {
        "id": "X4MlLcqfA_bR"
      },
      "execution_count": null,
      "outputs": []
    },
    {
      "cell_type": "code",
      "source": [
        "x_test"
      ],
      "metadata": {
        "id": "4VtvMuFEpB9L"
      },
      "execution_count": null,
      "outputs": []
    },
    {
      "cell_type": "code",
      "source": [
        "print(y_test)"
      ],
      "metadata": {
        "id": "WcP4kJtJo9xl"
      },
      "execution_count": null,
      "outputs": []
    },
    {
      "cell_type": "code",
      "source": [
        "data_pred={'Stage Spacing': 140,\n",
        "      'bbi/ft': 36,\n",
        "      'Well Spacing': 950,\n",
        "      'Dip':0,\n",
        "      'Thickness': 166,\n",
        "      'Lateral Length': 7783,\n",
        "      'Injection Rate': 59,\n",
        "      'Porosity': 7.7,\n",
        "      'ISIP': 7643,\n",
        "      'Water Saturation': 17.4,\n",
        "      'Percentage of LG': 37.1,\n",
        "      #'Pressure Gradient': 0.94,\n",
        "      'Proppant Loading': 2531,\n",
        "      }"
      ],
      "metadata": {
        "id": "NYKcWHDTj-yq"
      },
      "execution_count": null,
      "outputs": []
    },
    {
      "cell_type": "code",
      "source": [
        "df=pd.DataFrame(data_pred,index=[0])\n",
        "df"
      ],
      "metadata": {
        "id": "SSIZYkCnk1Qh"
      },
      "execution_count": null,
      "outputs": []
    },
    {
      "cell_type": "code",
      "source": [
        "new_pred=regressor.predict(df)\n",
        "print(new_pred[0])"
      ],
      "metadata": {
        "id": "r6DzRnPUlBZM"
      },
      "execution_count": null,
      "outputs": []
    },
    {
      "cell_type": "markdown",
      "source": [
        "## **MODEL 4 : NEURAL NETWORK**"
      ],
      "metadata": {
        "id": "vIjM_OrpQu4l"
      }
    },
    {
      "cell_type": "markdown",
      "source": [
        "### IMPORTING LIBRARIES"
      ],
      "metadata": {
        "id": "pvGwR3c7Q02o"
      }
    },
    {
      "cell_type": "code",
      "execution_count": null,
      "metadata": {
        "id": "qXd8Pv88fERQ"
      },
      "outputs": [],
      "source": [
        "import tensorflow as tf\n",
        "from tensorflow import keras\n",
        "import numpy as np\n",
        "from tensorflow.keras.models import Sequential\n",
        "from tensorflow.keras.layers import Dense\n",
        "import pandas as pd\n",
        "import matplotlib.pyplot as plt"
      ]
    },
    {
      "cell_type": "markdown",
      "source": [
        "### SPLITTING DATA"
      ],
      "metadata": {
        "id": "uKAte_1QRnXR"
      }
    },
    {
      "cell_type": "code",
      "source": [
        "data=data.drop(['Pressure Gradient'], axis = 1)\n",
        "train_dataset = data.sample(frac=0.7, random_state=0)\n",
        "test_dataset = data.drop(train_dataset.index)"
      ],
      "metadata": {
        "id": "qgKc-RXf3gp3"
      },
      "execution_count": null,
      "outputs": []
    },
    {
      "cell_type": "code",
      "source": [
        "train_dataset.describe().transpose()"
      ],
      "metadata": {
        "id": "AcKFPdVzQ9Fj"
      },
      "execution_count": null,
      "outputs": []
    },
    {
      "cell_type": "markdown",
      "source": [
        "### REMOVING LABELS FROM TEST DATA AND EXTRACTING FEATURES SEPARATELY"
      ],
      "metadata": {
        "id": "WaZOrrDpR8K8"
      }
    },
    {
      "cell_type": "code",
      "source": [
        "train_features = train_dataset.copy()\n",
        "test_features = test_dataset.copy()\n",
        "train_labels = train_features.pop('EUR')\n",
        "test_labels = test_features.pop('EUR')"
      ],
      "metadata": {
        "id": "QiWFOY4XRAQt"
      },
      "execution_count": null,
      "outputs": []
    },
    {
      "cell_type": "markdown",
      "source": [
        "### NORMALIZATION OF DATA"
      ],
      "metadata": {
        "id": "giSNta5QSGCU"
      }
    },
    {
      "cell_type": "code",
      "source": [
        "train_dataset.describe().transpose()[['mean', 'std']]\n",
        "normalizer = tf.keras.layers.Normalization(axis=1)\n",
        "normalizer.adapt(np.array(train_features))"
      ],
      "metadata": {
        "id": "ULhfE8Nw37hS"
      },
      "execution_count": null,
      "outputs": []
    },
    {
      "cell_type": "markdown",
      "source": [
        "### CREATING LAYERS"
      ],
      "metadata": {
        "id": "uZ3q9EQOSKz4"
      }
    },
    {
      "cell_type": "code",
      "source": [
        "from tensorflow.keras import layers\n",
        "model = keras.Sequential([\n",
        "      normalizer,\n",
        "      layers.Dense(12, activation='relu',input_shape=(train_features.shape)),\n",
        "      layers.Dense(12, activation='relu'),\n",
        "      layers.Dense(1)\n",
        "  ])"
      ],
      "metadata": {
        "id": "-rpj3vpnRGCG"
      },
      "execution_count": null,
      "outputs": []
    },
    {
      "cell_type": "markdown",
      "source": [
        "### COMPILING MODEL"
      ],
      "metadata": {
        "id": "namxDP6hSNf7"
      }
    },
    {
      "cell_type": "code",
      "source": [
        "model.compile(loss='mean_squared_error',\n",
        "                optimizer=tf.keras.optimizers.Adam(0.001),\n",
        "             metrics=['mean_squared_error'])\n"
      ],
      "metadata": {
        "id": "FEnwstxo4eng"
      },
      "execution_count": null,
      "outputs": []
    },
    {
      "cell_type": "markdown",
      "source": [
        "### TRAINING MODEL"
      ],
      "metadata": {
        "id": "5ifGNGsoSTDV"
      }
    },
    {
      "cell_type": "code",
      "source": [
        "history = model.fit(\n",
        "    train_features,\n",
        "    train_labels,\n",
        "    validation_split=0.2,\n",
        "    verbose=1, epochs=100)\n",
        "# set verbose = 1 or 2 for visualisation of epochs"
      ],
      "metadata": {
        "id": "pV1Xa7OYRTK4"
      },
      "execution_count": null,
      "outputs": []
    },
    {
      "cell_type": "markdown",
      "source": [
        "### LOSS VISUALIZATION OVER EPOCHS"
      ],
      "metadata": {
        "id": "zIjL1SnSSXGW"
      }
    },
    {
      "cell_type": "code",
      "source": [
        "plt.plot(history.history['loss'], label='loss')\n",
        "plt.plot(history.history['val_loss'], label='val_loss')\n",
        "plt.ylim([0, 10])\n",
        "plt.xlabel('Epoch')\n",
        "plt.ylabel('Error [EUR]')\n",
        "plt.legend()\n",
        "plt.grid(True)"
      ],
      "metadata": {
        "id": "RyQ6MNvs4hLn"
      },
      "execution_count": null,
      "outputs": []
    },
    {
      "cell_type": "markdown",
      "source": [
        "### MODEL EVALUATION OVER TEST DATA"
      ],
      "metadata": {
        "id": "OcBrYw6vSgFv"
      }
    },
    {
      "cell_type": "code",
      "source": [
        "test_results = model.evaluate(test_features, test_labels, verbose=0)\n",
        "test_results"
      ],
      "metadata": {
        "id": "YgemwBQuRYAu"
      },
      "execution_count": null,
      "outputs": []
    },
    {
      "cell_type": "code",
      "source": [
        "test_predictions = model.predict(test_features).flatten()"
      ],
      "metadata": {
        "id": "yFp5Fz8fRfcD"
      },
      "execution_count": null,
      "outputs": []
    },
    {
      "cell_type": "markdown",
      "source": [
        "### SCATTER PLOT : PREDICTED V/S ACTUAL DATA POINTS"
      ],
      "metadata": {
        "id": "bvARBJyvSn52"
      }
    },
    {
      "cell_type": "code",
      "source": [
        "a = plt.axes(aspect='equal')\n",
        "plt.scatter(test_labels, test_predictions)\n",
        "plt.xlabel('True Values [EUR]')\n",
        "plt.ylabel('Predictions [EUR]')\n",
        "lims = [0, 40]\n",
        "plt.xlim(lims)\n",
        "plt.ylim(lims)\n",
        "_ = plt.plot(lims, lims)"
      ],
      "metadata": {
        "id": "JkbBWsU74knt"
      },
      "execution_count": null,
      "outputs": []
    },
    {
      "cell_type": "markdown",
      "source": [
        "### R2 SCORE FOR EVALUATING PERFORMANCE OF MODEL"
      ],
      "metadata": {
        "id": "GnQ0cajsS0t8"
      }
    },
    {
      "cell_type": "code",
      "source": [
        "from sklearn.metrics import r2_score\n",
        "print(\"R2 score : %.2f\" % r2_score(test_labels,test_predictions))"
      ],
      "metadata": {
        "id": "_oeDLtfc4nhE"
      },
      "execution_count": null,
      "outputs": []
    },
    {
      "cell_type": "code",
      "source": [
        "errors = abs(test_predictions - test_labels)\n",
        "# Print out the mean absolute error (mae)\n",
        "print('Mean Absolute Error:', round(np.mean(errors), 2), 'degrees.')\n",
        "\n",
        "# Calculate mean absolute percentage error (MAPE)\n",
        "mape = 100 * (errors / y_test)\n",
        "# Calculate and display accuracy\n",
        "accuracy = 100 - np.mean(mape)\n",
        "print('Accuracy:', round(accuracy, 2), '%.')"
      ],
      "metadata": {
        "id": "T0bD5lL6rII7"
      },
      "execution_count": null,
      "outputs": []
    },
    {
      "cell_type": "markdown",
      "source": [
        "### SAVING TRAINED MODEL"
      ],
      "metadata": {
        "id": "wOyBmUWPTEFC"
      }
    },
    {
      "cell_type": "code",
      "source": [
        "!mkdir -p saved_model\n",
        "model.save('saved_model/EURmodel')"
      ],
      "metadata": {
        "id": "XXnDgkdPRhnN"
      },
      "execution_count": null,
      "outputs": []
    },
    {
      "cell_type": "code",
      "source": [
        "!ls saved_model\n",
        "!ls saved_model/EURmodel"
      ],
      "metadata": {
        "id": "u0FWCWN6Rp_K"
      },
      "execution_count": null,
      "outputs": []
    },
    {
      "cell_type": "markdown",
      "source": [
        "### LOADING TRAINED MODEL FOR PREDICTION"
      ],
      "metadata": {
        "id": "zouB9TibTJqV"
      }
    },
    {
      "cell_type": "code",
      "source": [
        "Loaded_model = tf.keras.models.load_model('saved_model/EURmodel')"
      ],
      "metadata": {
        "id": "qxNlPQANR1Th"
      },
      "execution_count": null,
      "outputs": []
    },
    {
      "cell_type": "code",
      "source": [
        "test_features"
      ],
      "metadata": {
        "id": "k93ItMVi2KkJ"
      },
      "execution_count": null,
      "outputs": []
    },
    {
      "cell_type": "code",
      "source": [
        "test_labels"
      ],
      "metadata": {
        "id": "IkWgIUWV2UZf"
      },
      "execution_count": null,
      "outputs": []
    },
    {
      "cell_type": "code",
      "source": [
        "data_pred={'Stage Spacing': 140,\n",
        "      'bbi/ft': 36,\n",
        "      'Well Spacing': 950,\n",
        "      'Dip':0,\n",
        "      'Thickness': 166,\n",
        "      'Lateral Length': 7783,\n",
        "      'Injection Rate': 59,\n",
        "      'Porosity': 7.7,\n",
        "      'ISIP': 7643,\n",
        "      'Water Saturation': 17.4,\n",
        "      'Percentage of LG': 37.1,\n",
        "      #'Pressure Gradient': 0.94,\n",
        "      'Proppant Loading': 2531,\n",
        "      }\n",
        "\n",
        ""
      ],
      "metadata": {
        "id": "ji8gCacr_BaR"
      },
      "execution_count": null,
      "outputs": []
    },
    {
      "cell_type": "code",
      "source": [
        "df=pd.DataFrame(data_pred,index=[0])\n",
        "df"
      ],
      "metadata": {
        "id": "QNcYVScA_Cm3"
      },
      "execution_count": null,
      "outputs": []
    },
    {
      "cell_type": "code",
      "source": [
        "new_pred=model.predict(df)\n",
        "print(new_pred[0])"
      ],
      "metadata": {
        "id": "BF71Ws5-_GMA"
      },
      "execution_count": null,
      "outputs": []
    },
    {
      "cell_type": "markdown",
      "source": [
        "Hyper parameter tunning using keras tuner"
      ],
      "metadata": {
        "id": "j6RRj0LVlruE"
      }
    },
    {
      "cell_type": "code",
      "source": [
        "# from sklearn.model_selection import GridSearchCV\n"
      ],
      "metadata": {
        "id": "IaFezRBelzc-"
      },
      "execution_count": null,
      "outputs": []
    },
    {
      "cell_type": "code",
      "source": [
        "# from numpy.ma.core import size\n",
        "# layers=[[20],[40,20],[45,30,15]]\n",
        "# activations=['sigmoid','relu']\n",
        "# param_grid=dict(layers=layers,activation=activations,batch_size=[128,256],epochs=[30])\n",
        "# grid = GridSearchCV(estimator=model, param_grid=param_grid,scoring='f1_macro',cv=5,refit = True)"
      ],
      "metadata": {
        "id": "Qlvw5b5Vch5m"
      },
      "execution_count": null,
      "outputs": []
    },
    {
      "cell_type": "code",
      "source": [
        "# grid_result = grid.fit(train_dataset, train_features)"
      ],
      "metadata": {
        "id": "fbTpH88mCXoc"
      },
      "execution_count": null,
      "outputs": []
    },
    {
      "cell_type": "code",
      "source": [
        "import tensorflow as tf\n",
        "from tensorflow import keras"
      ],
      "metadata": {
        "id": "aC8zQHCvT_vg"
      },
      "execution_count": null,
      "outputs": []
    },
    {
      "cell_type": "code",
      "source": [
        "!pip install -q -U keras-tuner"
      ],
      "metadata": {
        "id": "Pp33ZoG7UAJ7"
      },
      "execution_count": null,
      "outputs": []
    },
    {
      "cell_type": "code",
      "source": [
        "import keras_tuner as kt"
      ],
      "metadata": {
        "id": "a9AtIFo5UAmE"
      },
      "execution_count": null,
      "outputs": []
    },
    {
      "cell_type": "code",
      "source": [
        "def model_builder(hp):\n",
        "  '''\n",
        "  Args:\n",
        "    hp - Keras tuner object\n",
        "  '''\n",
        "  # Initialize the Sequential API and start stacking the layers\n",
        "\n",
        "  model = keras.Sequential()\n",
        "\n",
        "  # Tune the number of units in the first Dense layer\n",
        "  # Choose an optimal value between 32-512\n",
        "\n",
        "  hp_units = hp.Int('units', min_value=32, max_value=512, step=32)\n",
        "  model.add(keras.layers.Dense(units=hp_units, activation='relu',input_shape=(12,)))\n",
        "\n",
        "  # Add next layers\n",
        "\n",
        "  model.add(layers.Dense(12, activation='relu'))\n",
        "  model.add(layers.Dense(1))\n",
        "\n",
        "  hp_learning_rate = hp.Choice('learning_rate', values=[1e-2, 1e-3, 1e-4])\n",
        "\n",
        "  model.compile(loss='mean_squared_error',\n",
        "                optimizer=tf.keras.optimizers.Adam(learning_rate = hp_learning_rate),\n",
        "                metrics=['mean_squared_error'])\n",
        "\n",
        "  return model\n"
      ],
      "metadata": {
        "id": "oXp5i0yCUSuj"
      },
      "execution_count": null,
      "outputs": []
    },
    {
      "cell_type": "markdown",
      "source": [
        "**BAYESIAN OPTIMISATION**"
      ],
      "metadata": {
        "id": "bKWv5gOhUzsK"
      }
    },
    {
      "cell_type": "code",
      "source": [
        "tuner_bo = kt.BayesianOptimization(\n",
        "            model_builder,\n",
        "            objective='mean_squared_error',\n",
        "            max_trials=10,                    # the number of hyperparameter combinations that will be tested by the tuner\n",
        "            executions_per_trial=2            # the number of models that should be built and fit for each trial\n",
        "        )"
      ],
      "metadata": {
        "id": "BnxL8G-bUS_H"
      },
      "execution_count": null,
      "outputs": []
    },
    {
      "cell_type": "code",
      "source": [
        "tuner_bo.search(train_features,train_labels, epochs=10, validation_split=0.2, verbose=0)\n",
        "best_model = tuner_bo.get_best_models(num_models=1)[0]\n",
        "best_model.evaluate(test_features, test_labels)"
      ],
      "metadata": {
        "id": "uqYdz7GFUTc6"
      },
      "execution_count": null,
      "outputs": []
    },
    {
      "cell_type": "markdown",
      "source": [
        "**HYPERBAND**"
      ],
      "metadata": {
        "id": "vOLThyoHVzvi"
      }
    },
    {
      "cell_type": "code",
      "source": [
        "# Instantiate the tuner\n",
        "tuner = kt.Hyperband(model_builder, # the hypermodel\n",
        "                     objective='mean_squared_error', # objective to optimize\n",
        "max_epochs=50,\n",
        "factor=3, # factor which you have seen above\n",
        "directory='dir', # directory to save logs\n",
        "project_name='khyperband')"
      ],
      "metadata": {
        "id": "FxOkuX69VvWK"
      },
      "execution_count": null,
      "outputs": []
    },
    {
      "cell_type": "code",
      "source": [
        "tuner.search_space_summary()"
      ],
      "metadata": {
        "id": "ThUbYvHUVNcB"
      },
      "execution_count": null,
      "outputs": []
    },
    {
      "cell_type": "code",
      "source": [
        "stop_early = tf.keras.callbacks.EarlyStopping(monitor='mean_squared_error', patience=5)\n",
        "# Perform hypertuning\n",
        "tuner.search(train_features,train_labels, epochs=10, validation_split=0.2, callbacks=[stop_early])"
      ],
      "metadata": {
        "id": "8utkAf4HV2yp"
      },
      "execution_count": null,
      "outputs": []
    },
    {
      "cell_type": "code",
      "source": [
        "best_hp=tuner.get_best_hyperparameters()[0]\n",
        "\n",
        "h_model = tuner.hypermodel.build(best_hp)\n",
        "h_model.fit(train_features, train_labels, epochs=10, validation_split=0.2)\n",
        "h_model.summary()"
      ],
      "metadata": {
        "id": "Sxx17kZPV7Ys"
      },
      "execution_count": null,
      "outputs": []
    },
    {
      "cell_type": "code",
      "source": [
        "h_eval_dict = h_model.evaluate(test_features, test_labels, return_dict=True)"
      ],
      "metadata": {
        "id": "U23jQtLcWA0x"
      },
      "execution_count": null,
      "outputs": []
    },
    {
      "cell_type": "code",
      "source": [
        "from tensorflow.keras.models import Sequential\n",
        "from tensorflow.keras.layers import Dense\n",
        "from scikeras.wrappers import KerasClassifier\n",
        "from sklearn.model_selection import GridSearchCV\n",
        "import numpy as np"
      ],
      "metadata": {
        "id": "0IelU9KM23fO"
      },
      "execution_count": null,
      "outputs": []
    },
    {
      "cell_type": "code",
      "source": [
        "seed = 7\n",
        "np.random.seed(seed)"
      ],
      "metadata": {
        "id": "NkgNaSTj38uG"
      },
      "execution_count": null,
      "outputs": []
    },
    {
      "cell_type": "code",
      "source": [
        "X = data.iloc[:,0:12]\n",
        "Y = data.iloc[:,-1]"
      ],
      "metadata": {
        "id": "Y5Kp-hJK3_w_"
      },
      "execution_count": null,
      "outputs": []
    },
    {
      "cell_type": "code",
      "source": [
        "model2 = KerasClassifier(model=model, verbose=0)\n",
        "print(model2.get_params().keys())"
      ],
      "metadata": {
        "id": "Ku9RWjKc4N_Z"
      },
      "execution_count": null,
      "outputs": []
    },
    {
      "cell_type": "code",
      "source": [
        "from keras.wrappers.scikit_learn import KerasClassifier\n",
        "from sklearn.model_selection import GridSearchCV\n",
        "from keras.layers import Dense, Activation, Embedding, Flatten, LeakyReLU, BatchNormalization, Dropout"
      ],
      "metadata": {
        "id": "eL4uoWzxZm_9"
      },
      "execution_count": null,
      "outputs": []
    },
    {
      "cell_type": "code",
      "source": [
        "def create_model(layers, activation):\n",
        "    model = Sequential()\n",
        "    for i, nodes in enumerate(layers):\n",
        "        if i==0:\n",
        "            model.add(Dense(nodes,input_dim=train_features.shape[1]))\n",
        "            model.add(Activation(activation))\n",
        "            model.add(Dropout(0.3))\n",
        "        else:\n",
        "            model.add(Dense(nodes))\n",
        "            model.add(Activation(activation))\n",
        "            model.add(Dropout(0.3))\n",
        "\n",
        "    model.add(Dense(units = 1, kernel_initializer= 'glorot_uniform', activation = 'sigmoid'))\n",
        "\n",
        "    model.compile(optimizer='adam', loss='mean_squared_error',metrics=['accuracy'])\n",
        "    return model\n",
        "\n",
        "model = KerasClassifier(build_fn=create_model, verbose=0)"
      ],
      "metadata": {
        "id": "XpLzf9MRYxuP"
      },
      "execution_count": null,
      "outputs": []
    },
    {
      "cell_type": "code",
      "source": [
        "model"
      ],
      "metadata": {
        "id": "-JJg71E3Zp6V"
      },
      "execution_count": null,
      "outputs": []
    },
    {
      "cell_type": "code",
      "source": [
        "layers = [[10], [20, 10], [35, 20, 15]]\n",
        "activations = ['sigmoid', 'relu']\n",
        "param_grid = dict(layers=layers, activation=activations, batch_size = [28, 56], epochs=[50,80])\n",
        "grid = GridSearchCV(estimator=model, param_grid=param_grid,cv=5)"
      ],
      "metadata": {
        "id": "JyJvKEaf4feQ"
      },
      "execution_count": null,
      "outputs": []
    },
    {
      "cell_type": "code",
      "source": [
        "grid_result = grid.fit(train_features, train_labels)"
      ],
      "metadata": {
        "id": "cTUodNkZ4xGe"
      },
      "execution_count": null,
      "outputs": []
    },
    {
      "cell_type": "code",
      "source": [
        "[grid_result.best_score_,grid_result.best_params_]"
      ],
      "metadata": {
        "id": "r-92EKMZXiCV"
      },
      "execution_count": null,
      "outputs": []
    },
    {
      "cell_type": "code",
      "source": [
        "pred_y = grid.predict(test_features).flatten()"
      ],
      "metadata": {
        "id": "tFIObSFta6lN"
      },
      "execution_count": null,
      "outputs": []
    },
    {
      "cell_type": "code",
      "source": [
        "from sklearn.metrics import r2_score\n",
        "print(\"R2 score : %.2f\" % r2_score(test_labels,pred_y))"
      ],
      "metadata": {
        "id": "WjfK4vUsNn1j"
      },
      "execution_count": null,
      "outputs": []
    }
  ],
  "metadata": {
    "colab": {
      "provenance": [],
      "include_colab_link": true
    },
    "kernelspec": {
      "display_name": "Python 3",
      "name": "python3"
    },
    "language_info": {
      "name": "python"
    }
  },
  "nbformat": 4,
  "nbformat_minor": 0
}